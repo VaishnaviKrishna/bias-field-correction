{
  "nbformat": 4,
  "nbformat_minor": 0,
  "metadata": {
    "colab": {
      "name": "autoencoder_bias_field_estimation.ipynb",
      "version": "0.3.2",
      "provenance": [],
      "collapsed_sections": []
    },
    "kernelspec": {
      "name": "python3",
      "display_name": "Python 3"
    },
    "accelerator": "GPU"
  },
  "cells": [
    {
      "cell_type": "code",
      "metadata": {
        "id": "oVR4pUyX4F-F",
        "colab_type": "code",
        "outputId": "c3c36fc7-4de7-4186-d123-133ef30964aa",
        "colab": {
          "base_uri": "https://localhost:8080/",
          "height": 34
        }
      },
      "source": [
        "from google.colab import drive\n",
        "drive.mount('/content/drive',force_remount=True)"
      ],
      "execution_count": 0,
      "outputs": [
        {
          "output_type": "stream",
          "text": [
            "Mounted at /content/drive\n"
          ],
          "name": "stdout"
        }
      ]
    },
    {
      "cell_type": "code",
      "metadata": {
        "id": "SFHyliBV4PnQ",
        "colab_type": "code",
        "outputId": "2fbde229-595a-4d0b-c7a6-80072c7185e5",
        "colab": {
          "base_uri": "https://localhost:8080/",
          "height": 105
        }
      },
      "source": [
        "import numpy as np\n",
        "from sklearn.utils import shuffle\n",
        "import nibabel as nib #reading MR images\n",
        "import glob\n",
        "from matplotlib import pyplot as plt\n",
        "%matplotlib inline\n",
        "!pip install nilearn\n",
        "import nilearn"
      ],
      "execution_count": 0,
      "outputs": [
        {
          "output_type": "stream",
          "text": [
            "Requirement already satisfied: nilearn in /usr/local/lib/python3.6/dist-packages (0.5.1)\n",
            "Requirement already satisfied: nibabel>=2.0.2 in /usr/local/lib/python3.6/dist-packages (from nilearn) (2.3.3)\n",
            "Requirement already satisfied: numpy>=1.7.1 in /usr/local/lib/python3.6/dist-packages (from nibabel>=2.0.2->nilearn) (1.16.2)\n",
            "Requirement already satisfied: six>=1.3 in /usr/local/lib/python3.6/dist-packages (from nibabel>=2.0.2->nilearn) (1.11.0)\n",
            "Requirement already satisfied: bz2file in /usr/local/lib/python3.6/dist-packages (from nibabel>=2.0.2->nilearn) (0.98)\n"
          ],
          "name": "stdout"
        }
      ]
    },
    {
      "cell_type": "code",
      "metadata": {
        "id": "KjHqGfA-4P0A",
        "colab_type": "code",
        "outputId": "9fc8e046-1d56-455d-c40e-bcb226ea6a8b",
        "colab": {
          "base_uri": "https://localhost:8080/",
          "height": 72
        }
      },
      "source": [
        "ff = sorted(glob.glob('drive/My Drive/Skull_stripped_images/*'))   #For reading a folder\n",
        "N=64    #resized image dimensions (N, N)\n",
        "\n",
        "import cv2\n",
        "images = []    #contains the training data sliced over all 3 axes\n",
        "\n",
        "#Have used nibabel library which has been imported as 'nib' to read the Nifti images \n",
        "\n",
        "for f in range(len(ff)):\n",
        "    a = nib.load(ff[f])\n",
        "    a = a.get_fdata()\n",
        "    for k in range(a.shape[0]):                                                                                                  \n",
        "        temp = cv2.resize(a[k,:,:], (N, N), interpolation = cv2.INTER_LINEAR)        #INTER_CUBIC (another type of interpolation)                                     \n",
        "        images.append(temp)\n",
        "    for k in range(a.shape[1]):\n",
        "        temp = cv2.resize(a[:,k,:], (N, N), interpolation = cv2.INTER_LINEAR) \n",
        "        images.append(temp)\n",
        "    for k in range(a.shape[2]):\n",
        "        temp = cv2.resize(a[:,:,k], (N, N), interpolation = cv2.INTER_LINEAR) \n",
        "        images.append(temp)\n",
        "           \n",
        "print (a.shape)\n",
        "print(len(images))"
      ],
      "execution_count": 0,
      "outputs": [
        {
          "output_type": "stream",
          "text": [
            "(260, 311, 260)\n"
          ],
          "name": "stdout"
        },
        {
          "output_type": "execute_result",
          "data": {
            "text/plain": [
              "'\\nfor f in range(len(ff)):\\n    a = nilearn.image.load_img(ff[f])\\n    a = a.get_data()\\n    for k in range(a.shape[0]):                                                                                                   #for k in range(a.shape[0]):\\n        temp = cv2.resize(a[k,:,:], (N, N), interpolation = cv2.INTER_CUBIC)                                                #temp = cv2.resize(a[:,100+k,:], (N, N), interpolation = cv2.INTER_CUBIC) \\n        images.append(temp)\\n    for k in range(a.shape[1]):\\n        temp = cv2.resize(a[:,k,:], (N, N), interpolation = cv2.INTER_CUBIC) \\n        images.append(temp)\\n    for k in range(a.shape[2]):\\n        temp = cv2.resize(a[:,:,k], (N, N), interpolation = cv2.INTER_CUBIC) \\n        images.append(temp)\\n           \\nprint (a.shape)\\nlen(images)\\n\\n'"
            ]
          },
          "metadata": {
            "tags": []
          },
          "execution_count": 3
        }
      ]
    },
    {
      "cell_type": "code",
      "metadata": {
        "id": "2bvaWad14Pxb",
        "colab_type": "code",
        "outputId": "c9c77077-8e00-4f51-d41a-d2e0a3ccf68b",
        "colab": {
          "base_uri": "https://localhost:8080/",
          "height": 633
        }
      },
      "source": [
        "plt.figure(figsize=(16, 4))\n",
        "print(\"Training images obtained by slicing along X axis\")\n",
        "for i in range(5):\n",
        "    plt.subplot(1, 5, i+1)\n",
        "    plt.imshow(images[i],cmap='gray')                                       #plt.imshow(images[i, ..., 0], cmap='gray')\n",
        "plt.show()    \n",
        "\n",
        "   \n",
        "    \n",
        "#ax = plt.subplots()\n",
        "#ax.grid(False)\n",
        "\n",
        "plt.figure(figsize=(16, 4))\n",
        "print(\"Training images obtained by slicing along Y axis\")\n",
        "for i in range(5):\n",
        "    plt.subplot(1, 5, i+1)\n",
        "    plt.imshow(images[i+260],cmap='gray')                                   #plt.imshow(images[i+260, ..., 260], cmap='gray')\n",
        "\n",
        "plt.show()    \n",
        "#ax = plt.subplots()\n",
        "#ax.grid(False)\n",
        "\n",
        "\n",
        "plt.figure(figsize=(16, 4))\n",
        "print(\"Training images obtained by slicing along Z axis\")\n",
        "for i in range(5):\n",
        "    plt.subplot(1, 5, i+1)\n",
        "    plt.imshow(images[i+571],cmap='gray')                                    # plt.imshow(images[i+571, ..., 571], cmap='gray')\n",
        "plt.show()    \n",
        "\n",
        "#ax = plt.subplots()\n",
        "#ax.grid(False)\n",
        "\n",
        "\n"
      ],
      "execution_count": 0,
      "outputs": [
        {
          "output_type": "stream",
          "text": [
            "Training images obtained by slicing along X axis\n"
          ],
          "name": "stdout"
        },
        {
          "output_type": "display_data",
          "data": {
            "image/png": "[encoded data removed]",
            "text/plain": [
              "<Figure size 1152x288 with 5 Axes>"
            ]
          },
          "metadata": {
            "tags": []
          }
        },
        {
          "output_type": "stream",
          "text": [
            "Training images obtained by slicing along Y axis\n"
          ],
          "name": "stdout"
        },
        {
          "output_type": "display_data",
          "data": {
            "image/png": "[encoded data removed]",
            "text/plain": [
              "<Figure size 1152x288 with 5 Axes>"
            ]
          },
          "metadata": {
            "tags": []
          }
        },
        {
          "output_type": "stream",
          "text": [
            "Training images obtained by slicing along Z axis\n"
          ],
          "name": "stdout"
        },
        {
          "output_type": "display_data",
          "data": {
            "image/png": "[encoded data removed]",
            "text/plain": [
              "<Figure size 1152x288 with 5 Axes>"
            ]
          },
          "metadata": {
            "tags": []
          }
        }
      ]
    },
    {
      "cell_type": "code",
      "metadata": {
        "id": "x-YgIUXj4Puh",
        "colab_type": "code",
        "colab": {}
      },
      "source": [
        "images = np.asarray(images)  #converting list to a numpy array (first dimension refers to the #of samples and the second and the third are the 2D image dimension)\n",
        "images = images.reshape(-1,N,N,1)  #-1 is generally used for an unknown dimension"
      ],
      "execution_count": 0,
      "outputs": []
    },
    {
      "cell_type": "code",
      "metadata": {
        "id": "NlC5dXYJ4bEF",
        "colab_type": "code",
        "colab": {}
      },
      "source": [
        "maximum = np.max(images)    #Normalization over all the training images to get the intensity values between 0 and 1 \n",
        "minimum = np.min(images)\n",
        "\n",
        "images = (images - minimum) / (maximum - minimum)"
      ],
      "execution_count": 0,
      "outputs": []
    },
    {
      "cell_type": "code",
      "metadata": {
        "id": "RmibD30q4bK_",
        "colab_type": "code",
        "outputId": "aeb332b8-3cd0-4d44-8700-54d326fd118a",
        "colab": {
          "base_uri": "https://localhost:8080/",
          "height": 195
        }
      },
      "source": [
        "plt.figure(figsize=[5,5])\n",
        "\n",
        "# Display random images from the training data\n",
        "plt.subplot(121)\n",
        "plt.imshow(images[450][:,:,0], cmap='gray')\n",
        "\n",
        "plt.subplot(122)\n",
        "plt.imshow(images[220][:,:,0], cmap='gray')"
      ],
      "execution_count": 0,
      "outputs": [
        {
          "output_type": "execute_result",
          "data": {
            "text/plain": [
              "<matplotlib.image.AxesImage at 0x7fec6c301780>"
            ]
          },
          "metadata": {
            "tags": []
          },
          "execution_count": 7
        },
        {
          "output_type": "display_data",
          "data": {
            "image/png": "[encoded data removed]",
            "text/plain": [
              "<Figure size 360x360 with 2 Axes>"
            ]
          },
          "metadata": {
            "tags": []
          }
        }
      ]
    },
    {
      "cell_type": "code",
      "metadata": {
        "id": "BxetmozP4bTA",
        "colab_type": "code",
        "outputId": "b208201d-b7f7-48af-c46c-2f37e465dc6d",
        "colab": {
          "base_uri": "https://localhost:8080/",
          "height": 34
        }
      },
      "source": [
        "ff = sorted(glob.glob('drive/My Drive/Model_Output_Bias_images/*'))   #For reading a folder\n",
        "N=64\n",
        "\n",
        "import cv2\n",
        "images_truth = []    #contains the ground truth for training data sliced over all 3 axes\n",
        "\n",
        "\n",
        "for f in range(len(ff)):\n",
        "    a = nib.load(ff[f])\n",
        "    a = a.get_fdata()\n",
        "    for k in range(a.shape[0]):                                                                                                   \n",
        "        temp = cv2.resize(a[k,:,:], (N, N), interpolation = cv2.INTER_LINEAR)                                               \n",
        "        images_truth.append(temp)\n",
        "    for k in range(a.shape[1]):\n",
        "        temp = cv2.resize(a[:,k,:], (N, N), interpolation = cv2.INTER_LINEAR) \n",
        "        images_truth.append(temp)\n",
        "    for k in range(a.shape[2]):\n",
        "        temp = cv2.resize(a[:,:,k], (N, N), interpolation = cv2.INTER_LINEAR) \n",
        "        images_truth.append(temp)\n",
        "           \n",
        "print(a.shape)\n",
        "print(len(images_truth))\n",
        "\n",
        "images_truth = np.asarray(images_truth)  #converting list to a numpy array (first dimension refers to the #of samples and the second and the third are the 2D image dimension)\n",
        "images_truth = images_truth.reshape(-1,N,N,1)  #-1 is generally used for an unknown dimension\n",
        "\n",
        "m = np.max(images_truth)    #Normalization over the ground truth for all the training images to get the intensity values between 0 and 1\n",
        "mi = np.min(images_truth)\n",
        "\n",
        "images_truth = (images_truth - mi) / (m - mi)"
      ],
      "execution_count": 0,
      "outputs": [
        {
          "output_type": "stream",
          "text": [
            "(260, 311, 260)\n"
          ],
          "name": "stdout"
        }
      ]
    },
    {
      "cell_type": "code",
      "metadata": {
        "id": "ztBgwsD24bQN",
        "colab_type": "code",
        "colab": {}
      },
      "source": [
        "for i in range(len(images_truth)):\n",
        "    for j in range(N):\n",
        "      for k in range(N):\n",
        "        if (images[i,j,k,0] == 0): #images array contains data from skull striped images; \n",
        "          images_truth[i,j,k,0] = 0 #this is done to set those pixel values that are outside the brain in the images ground truth to 0\n",
        "        "
      ],
      "execution_count": 0,
      "outputs": []
    },
    {
      "cell_type": "code",
      "metadata": {
        "id": "GO7VGtAp4Pru",
        "colab_type": "code",
        "outputId": "e68f93ac-e7a2-48f2-f6a2-8bb093e93b05",
        "colab": {
          "base_uri": "https://localhost:8080/",
          "height": 195
        }
      },
      "source": [
        "from sklearn.model_selection import train_test_split\n",
        "train_X,valid_X,train_ground,valid_ground = train_test_split(images,\n",
        "                                                             images_truth,\n",
        "                                                             test_size=0.2,\n",
        "                                                             random_state=13)\n",
        "\n",
        "plt.figure(figsize=[5,5])\n",
        "\n",
        "# Display an image in training data\n",
        "plt.subplot(121)\n",
        "plt.imshow(train_X[450][:,:,0], cmap='gray')\n",
        "\n",
        "# Display the corresponding ground truth for the training data\n",
        "plt.subplot(122)\n",
        "plt.imshow(train_ground[450][:,:,0], cmap='gray')\n"
      ],
      "execution_count": 0,
      "outputs": [
        {
          "output_type": "execute_result",
          "data": {
            "text/plain": [
              "<matplotlib.image.AxesImage at 0x7fec6ea62898>"
            ]
          },
          "metadata": {
            "tags": []
          },
          "execution_count": 10
        },
        {
          "output_type": "display_data",
          "data": {
            "image/png": "[encoded data removed]",
            "text/plain": [
              "<Figure size 360x360 with 2 Axes>"
            ]
          },
          "metadata": {
            "tags": []
          }
        }
      ]
    },
    {
      "cell_type": "code",
      "metadata": {
        "id": "J9QGPsfz4pRI",
        "colab_type": "code",
        "outputId": "83336def-8a51-4b8b-e827-cb78b662c499",
        "colab": {
          "base_uri": "https://localhost:8080/",
          "height": 34
        }
      },
      "source": [
        "import os\n",
        "import cv2\n",
        "from keras.layers import Input,Dense,Flatten,Dropout,merge,Reshape,Conv2D,MaxPooling2D,UpSampling2D,Conv2DTranspose\n",
        "from keras.layers.normalization import BatchNormalization\n",
        "from keras.models import Model,Sequential\n",
        "#from keras.callbacks import ModelCheckpoint\n",
        "#from keras.optimizers import Adadelta, RMSprop,SGD,Adam\n",
        "from keras.losses import mean_absolute_error,mean_squared_error\n",
        "from keras import regularizers\n",
        "from keras import backend as K"
      ],
      "execution_count": 0,
      "outputs": [
        {
          "output_type": "stream",
          "text": [
            "Using TensorFlow backend.\n"
          ],
          "name": "stderr"
        }
      ]
    },
    {
      "cell_type": "code",
      "metadata": {
        "id": "-bHh2Zdu4pXW",
        "colab_type": "code",
        "colab": {}
      },
      "source": [
        "batch_size = 256\n",
        "epochs = 100\n",
        "inChannel = 1\n",
        "x, y = N, N\n",
        "input_img = Input(shape = (x, y, inChannel))\n",
        "\n",
        "def autoencoder(input_img):\n",
        "  \n",
        "    #encoder\n",
        "    \n",
        "    conv1 = Conv2D(12, (7, 7), activation='relu', padding='same')(input_img) # N x N x 12\n",
        "    conv1 = BatchNormalization()(conv1)\n",
        "    conv1 = Conv2D(12, (7, 7), activation='relu', padding='same')(conv1)\n",
        "    conv1 = BatchNormalization()(conv1)\n",
        "    pool1 = MaxPooling2D(pool_size=(2, 2))(conv1) #14 x 14 x 32\n",
        "    conv2 = Conv2D(24, (7, 7), activation='relu', padding='same')(pool1) # N/2 x N/2 x 24\n",
        "    conv2 = BatchNormalization()(conv2)\n",
        "    conv2 = Conv2D(24, (7, 7), activation='relu', padding='same')(conv2)\n",
        "    conv2 = BatchNormalization()(conv2)\n",
        "   \n",
        "\n",
        "    #decoder\n",
        "    \n",
        "    conv3 = Conv2D(24, (7, 7), activation='relu', padding='same')(conv2) # N/2 x N/2 x 24\n",
        "    conv3 = BatchNormalization()(conv3)\n",
        "    conv3 = Conv2D(24, (7, 7), activation='relu', padding='same')(conv3)\n",
        "    conv3 = BatchNormalization()(conv3)\n",
        "    up1 = UpSampling2D((2,2))(conv3) \n",
        "    conv4 = Conv2D(12, (7, 7), activation='relu', padding='same')(up1) # N x N x 12\n",
        "    conv4 = BatchNormalization()(conv4)\n",
        "    conv4 = Conv2D(12, (7, 7), activation='relu', padding='same')(conv4)\n",
        "    conv4 = BatchNormalization()(conv4)\n",
        "    decoded = Conv2D(1, (7, 7), activation='sigmoid', padding='same')(conv4) # N x N x 1\n",
        "    return decoded"
      ],
      "execution_count": 0,
      "outputs": []
    },
    {
      "cell_type": "code",
      "metadata": {
        "id": "DT_UeO6q4pm_",
        "colab_type": "code",
        "outputId": "a0c2e1c8-0668-4429-8097-bd496ac917f7",
        "colab": {
          "base_uri": "https://localhost:8080/",
          "height": 925
        }
      },
      "source": [
        "autoencoder = Model(input_img, autoencoder(input_img))\n",
        "autoencoder.compile(loss='mean_squared_error', optimizer = RMSprop()) #a better metric (instead of mean squared error) to verify the performance would be \n",
        "autoencoder.summary()                                                 #to feed the corrected MRI images in Brainsuite and find out if the segmentation of the brain \n",
        "                                                                      #tissues is done right"
      ],
      "execution_count": 0,
      "outputs": [
        {
          "output_type": "stream",
          "text": [
            "WARNING:tensorflow:From /usr/local/lib/python3.6/dist-packages/tensorflow/python/framework/op_def_library.py:263: colocate_with (from tensorflow.python.framework.ops) is deprecated and will be removed in a future version.\n",
            "Instructions for updating:\n",
            "Colocations handled automatically by placer.\n",
            "_________________________________________________________________\n",
            "Layer (type)                 Output Shape              Param #   \n",
            "=================================================================\n",
            "input_1 (InputLayer)         (None, 64, 64, 1)         0         \n",
            "_________________________________________________________________\n",
            "conv2d_1 (Conv2D)            (None, 64, 64, 12)        600       \n",
            "_________________________________________________________________\n",
            "batch_normalization_1 (Batch (None, 64, 64, 12)        48        \n",
            "_________________________________________________________________\n",
            "conv2d_2 (Conv2D)            (None, 64, 64, 12)        7068      \n",
            "_________________________________________________________________\n",
            "batch_normalization_2 (Batch (None, 64, 64, 12)        48        \n",
            "_________________________________________________________________\n",
            "max_pooling2d_1 (MaxPooling2 (None, 32, 32, 12)        0         \n",
            "_________________________________________________________________\n",
            "conv2d_3 (Conv2D)            (None, 32, 32, 24)        14136     \n",
            "_________________________________________________________________\n",
            "batch_normalization_3 (Batch (None, 32, 32, 24)        96        \n",
            "_________________________________________________________________\n",
            "conv2d_4 (Conv2D)            (None, 32, 32, 24)        28248     \n",
            "_________________________________________________________________\n",
            "batch_normalization_4 (Batch (None, 32, 32, 24)        96        \n",
            "_________________________________________________________________\n",
            "conv2d_5 (Conv2D)            (None, 32, 32, 24)        28248     \n",
            "_________________________________________________________________\n",
            "batch_normalization_5 (Batch (None, 32, 32, 24)        96        \n",
            "_________________________________________________________________\n",
            "conv2d_6 (Conv2D)            (None, 32, 32, 24)        28248     \n",
            "_________________________________________________________________\n",
            "batch_normalization_6 (Batch (None, 32, 32, 24)        96        \n",
            "_________________________________________________________________\n",
            "up_sampling2d_1 (UpSampling2 (None, 64, 64, 24)        0         \n",
            "_________________________________________________________________\n",
            "conv2d_7 (Conv2D)            (None, 64, 64, 12)        14124     \n",
            "_________________________________________________________________\n",
            "batch_normalization_7 (Batch (None, 64, 64, 12)        48        \n",
            "_________________________________________________________________\n",
            "conv2d_8 (Conv2D)            (None, 64, 64, 12)        7068      \n",
            "_________________________________________________________________\n",
            "batch_normalization_8 (Batch (None, 64, 64, 12)        48        \n",
            "_________________________________________________________________\n",
            "conv2d_9 (Conv2D)            (None, 64, 64, 1)         589       \n",
            "=================================================================\n",
            "Total params: 128,905\n",
            "Trainable params: 128,617\n",
            "Non-trainable params: 288\n",
            "_________________________________________________________________\n"
          ],
          "name": "stdout"
        }
      ]
    },
    {
      "cell_type": "code",
      "metadata": {
        "id": "LPOSXIw04pjo",
        "colab_type": "code",
        "outputId": "bb353e4d-4f50-43e5-d47e-279ed0730a84",
        "colab": {
          "base_uri": "https://localhost:8080/",
          "height": 3663
        }
      },
      "source": [
        "autoencoder_train = autoencoder.fit(train_X, train_ground, batch_size=batch_size,epochs=epochs,verbose=1,validation_data=(valid_X, valid_ground))"
      ],
      "execution_count": 0,
      "outputs": [
        {
          "output_type": "stream",
          "text": [
            "WARNING:tensorflow:From /usr/local/lib/python3.6/dist-packages/tensorflow/python/ops/math_ops.py:3066: to_int32 (from tensorflow.python.ops.math_ops) is deprecated and will be removed in a future version.\n",
            "Instructions for updating:\n",
            "Use tf.cast instead.\n",
            "Train on 26592 samples, validate on 6648 samples\n",
            "Epoch 1/100\n",
            "26592/26592 [==============================] - 43s 2ms/step - loss: 0.0535 - val_loss: 0.0321\n",
            "Epoch 2/100\n",
            "26592/26592 [==============================] - 38s 1ms/step - loss: 0.0208 - val_loss: 0.0843\n",
            "Epoch 3/100\n",
            "26592/26592 [==============================] - 38s 1ms/step - loss: 0.0084 - val_loss: 0.0438\n",
            "Epoch 4/100\n",
            "26592/26592 [==============================] - 38s 1ms/step - loss: 0.0039 - val_loss: 0.0286\n",
            "Epoch 5/100\n",
            "26592/26592 [==============================] - 38s 1ms/step - loss: 0.0030 - val_loss: 0.0058\n",
            "Epoch 6/100\n",
            "26592/26592 [==============================] - 38s 1ms/step - loss: 0.0025 - val_loss: 0.0116\n",
            "Epoch 7/100\n",
            "26592/26592 [==============================] - 38s 1ms/step - loss: 0.0022 - val_loss: 0.0081\n",
            "Epoch 8/100\n",
            "26592/26592 [==============================] - 38s 1ms/step - loss: 0.0020 - val_loss: 0.0031\n",
            "Epoch 9/100\n",
            "26592/26592 [==============================] - 38s 1ms/step - loss: 0.0020 - val_loss: 0.0031\n",
            "Epoch 10/100\n",
            "26592/26592 [==============================] - 38s 1ms/step - loss: 0.0018 - val_loss: 0.0027\n",
            "Epoch 11/100\n",
            "26592/26592 [==============================] - 38s 1ms/step - loss: 0.0017 - val_loss: 0.0017\n",
            "Epoch 12/100\n",
            "26592/26592 [==============================] - 38s 1ms/step - loss: 0.0017 - val_loss: 0.0015\n",
            "Epoch 13/100\n",
            "26592/26592 [==============================] - 38s 1ms/step - loss: 0.0016 - val_loss: 0.0027\n",
            "Epoch 14/100\n",
            "26592/26592 [==============================] - 38s 1ms/step - loss: 0.0016 - val_loss: 0.0017\n",
            "Epoch 15/100\n",
            "26592/26592 [==============================] - 38s 1ms/step - loss: 0.0014 - val_loss: 0.0013\n",
            "Epoch 16/100\n",
            "26592/26592 [==============================] - 38s 1ms/step - loss: 0.0015 - val_loss: 0.0019\n",
            "Epoch 17/100\n",
            "26592/26592 [==============================] - 38s 1ms/step - loss: 0.0013 - val_loss: 0.0019\n",
            "Epoch 18/100\n",
            "26592/26592 [==============================] - 38s 1ms/step - loss: 0.0014 - val_loss: 0.0038\n",
            "Epoch 19/100\n",
            "26592/26592 [==============================] - 38s 1ms/step - loss: 0.0013 - val_loss: 0.0011\n",
            "Epoch 20/100\n",
            "26592/26592 [==============================] - 38s 1ms/step - loss: 0.0012 - val_loss: 0.0012\n",
            "Epoch 21/100\n",
            "26592/26592 [==============================] - 38s 1ms/step - loss: 0.0012 - val_loss: 0.0015\n",
            "Epoch 22/100\n",
            "26592/26592 [==============================] - 38s 1ms/step - loss: 0.0012 - val_loss: 0.0016\n",
            "Epoch 23/100\n",
            "26592/26592 [==============================] - 38s 1ms/step - loss: 0.0011 - val_loss: 9.0234e-04\n",
            "Epoch 24/100\n",
            "26592/26592 [==============================] - 38s 1ms/step - loss: 0.0012 - val_loss: 9.6344e-04\n",
            "Epoch 25/100\n",
            "26592/26592 [==============================] - 38s 1ms/step - loss: 0.0011 - val_loss: 8.7727e-04\n",
            "Epoch 26/100\n",
            "26592/26592 [==============================] - 38s 1ms/step - loss: 0.0011 - val_loss: 9.5702e-04\n",
            "Epoch 27/100\n",
            "26592/26592 [==============================] - 38s 1ms/step - loss: 0.0011 - val_loss: 0.0016\n",
            "Epoch 28/100\n",
            "26592/26592 [==============================] - 38s 1ms/step - loss: 0.0010 - val_loss: 0.0015\n",
            "Epoch 29/100\n",
            "26592/26592 [==============================] - 38s 1ms/step - loss: 0.0010 - val_loss: 9.8338e-04\n",
            "Epoch 30/100\n",
            "26592/26592 [==============================] - 38s 1ms/step - loss: 0.0010 - val_loss: 8.8389e-04\n",
            "Epoch 31/100\n",
            "26592/26592 [==============================] - 38s 1ms/step - loss: 0.0010 - val_loss: 8.5296e-04\n",
            "Epoch 32/100\n",
            "26592/26592 [==============================] - 38s 1ms/step - loss: 9.3932e-04 - val_loss: 0.0014\n",
            "Epoch 33/100\n",
            "26592/26592 [==============================] - 38s 1ms/step - loss: 9.2757e-04 - val_loss: 0.0011\n",
            "Epoch 34/100\n",
            "26592/26592 [==============================] - 38s 1ms/step - loss: 8.9610e-04 - val_loss: 9.5932e-04\n",
            "Epoch 35/100\n",
            "26592/26592 [==============================] - 38s 1ms/step - loss: 8.7703e-04 - val_loss: 7.6843e-04\n",
            "Epoch 36/100\n",
            "26592/26592 [==============================] - 38s 1ms/step - loss: 9.0730e-04 - val_loss: 8.8851e-04\n",
            "Epoch 37/100\n",
            "26592/26592 [==============================] - 38s 1ms/step - loss: 8.7188e-04 - val_loss: 7.5453e-04\n",
            "Epoch 38/100\n",
            "26592/26592 [==============================] - 38s 1ms/step - loss: 8.4619e-04 - val_loss: 8.6254e-04\n",
            "Epoch 39/100\n",
            "26592/26592 [==============================] - 39s 1ms/step - loss: 8.4516e-04 - val_loss: 9.1108e-04\n",
            "Epoch 40/100\n",
            "26592/26592 [==============================] - 38s 1ms/step - loss: 8.2331e-04 - val_loss: 0.0012\n",
            "Epoch 41/100\n",
            "26592/26592 [==============================] - 38s 1ms/step - loss: 7.8386e-04 - val_loss: 9.1565e-04\n",
            "Epoch 42/100\n",
            "26592/26592 [==============================] - 38s 1ms/step - loss: 8.2769e-04 - val_loss: 0.0014\n",
            "Epoch 43/100\n",
            "26592/26592 [==============================] - 38s 1ms/step - loss: 8.0736e-04 - val_loss: 7.8237e-04\n",
            "Epoch 44/100\n",
            "26592/26592 [==============================] - 38s 1ms/step - loss: 7.6319e-04 - val_loss: 6.5061e-04\n",
            "Epoch 45/100\n",
            "26592/26592 [==============================] - 39s 1ms/step - loss: 7.3294e-04 - val_loss: 0.0011\n",
            "Epoch 46/100\n",
            "26592/26592 [==============================] - 38s 1ms/step - loss: 8.1810e-04 - val_loss: 8.4742e-04\n",
            "Epoch 47/100\n",
            "26592/26592 [==============================] - 38s 1ms/step - loss: 7.8413e-04 - val_loss: 5.9621e-04\n",
            "Epoch 48/100\n",
            "26592/26592 [==============================] - 38s 1ms/step - loss: 7.2465e-04 - val_loss: 7.0199e-04\n",
            "Epoch 49/100\n",
            "26592/26592 [==============================] - 38s 1ms/step - loss: 7.0986e-04 - val_loss: 6.5328e-04\n",
            "Epoch 50/100\n",
            "26592/26592 [==============================] - 38s 1ms/step - loss: 7.1680e-04 - val_loss: 6.9595e-04\n",
            "Epoch 51/100\n",
            "26592/26592 [==============================] - 38s 1ms/step - loss: 6.9584e-04 - val_loss: 6.7735e-04\n",
            "Epoch 52/100\n",
            "26592/26592 [==============================] - 38s 1ms/step - loss: 7.0310e-04 - val_loss: 9.3274e-04\n",
            "Epoch 53/100\n",
            "26592/26592 [==============================] - 38s 1ms/step - loss: 6.7893e-04 - val_loss: 8.9997e-04\n",
            "Epoch 54/100\n",
            "26592/26592 [==============================] - 39s 1ms/step - loss: 6.6138e-04 - val_loss: 5.0907e-04\n",
            "Epoch 55/100\n",
            "26592/26592 [==============================] - 38s 1ms/step - loss: 6.5116e-04 - val_loss: 0.0011\n",
            "Epoch 56/100\n",
            "26592/26592 [==============================] - 38s 1ms/step - loss: 6.6667e-04 - val_loss: 8.5351e-04\n",
            "Epoch 57/100\n",
            "26592/26592 [==============================] - 38s 1ms/step - loss: 6.2958e-04 - val_loss: 7.6426e-04\n",
            "Epoch 58/100\n",
            "26592/26592 [==============================] - 38s 1ms/step - loss: 6.7018e-04 - val_loss: 5.2127e-04\n",
            "Epoch 59/100\n",
            "26592/26592 [==============================] - 38s 1ms/step - loss: 6.2655e-04 - val_loss: 5.5244e-04\n",
            "Epoch 60/100\n",
            "26592/26592 [==============================] - 38s 1ms/step - loss: 6.6568e-04 - val_loss: 5.6049e-04\n",
            "Epoch 61/100\n",
            "26592/26592 [==============================] - 38s 1ms/step - loss: 6.4423e-04 - val_loss: 5.8193e-04\n",
            "Epoch 62/100\n",
            "26592/26592 [==============================] - 38s 1ms/step - loss: 6.5108e-04 - val_loss: 4.4832e-04\n",
            "Epoch 63/100\n",
            "26592/26592 [==============================] - 38s 1ms/step - loss: 6.2261e-04 - val_loss: 7.4905e-04\n",
            "Epoch 64/100\n",
            "26592/26592 [==============================] - 38s 1ms/step - loss: 6.2259e-04 - val_loss: 5.8302e-04\n",
            "Epoch 65/100\n",
            "26592/26592 [==============================] - 38s 1ms/step - loss: 6.1015e-04 - val_loss: 5.9879e-04\n",
            "Epoch 66/100\n",
            "26592/26592 [==============================] - 38s 1ms/step - loss: 5.9696e-04 - val_loss: 0.0011\n",
            "Epoch 67/100\n",
            "26592/26592 [==============================] - 38s 1ms/step - loss: 6.0392e-04 - val_loss: 7.8017e-04\n",
            "Epoch 68/100\n",
            "26592/26592 [==============================] - 38s 1ms/step - loss: 5.7766e-04 - val_loss: 5.0343e-04\n",
            "Epoch 69/100\n",
            "26592/26592 [==============================] - 38s 1ms/step - loss: 6.0772e-04 - val_loss: 6.7831e-04\n",
            "Epoch 70/100\n",
            "26592/26592 [==============================] - 38s 1ms/step - loss: 5.7445e-04 - val_loss: 5.8683e-04\n",
            "Epoch 71/100\n",
            "26592/26592 [==============================] - 38s 1ms/step - loss: 5.8114e-04 - val_loss: 6.9496e-04\n",
            "Epoch 72/100\n",
            "26592/26592 [==============================] - 38s 1ms/step - loss: 5.7610e-04 - val_loss: 5.8466e-04\n",
            "Epoch 73/100\n",
            "26592/26592 [==============================] - 38s 1ms/step - loss: 5.6048e-04 - val_loss: 4.7018e-04\n",
            "Epoch 74/100\n",
            "26592/26592 [==============================] - 38s 1ms/step - loss: 5.4644e-04 - val_loss: 9.2081e-04\n",
            "Epoch 75/100\n",
            "26592/26592 [==============================] - 38s 1ms/step - loss: 5.5464e-04 - val_loss: 4.7719e-04\n",
            "Epoch 76/100\n",
            "26592/26592 [==============================] - 38s 1ms/step - loss: 5.5044e-04 - val_loss: 9.7224e-04\n",
            "Epoch 77/100\n",
            "26592/26592 [==============================] - 38s 1ms/step - loss: 5.4377e-04 - val_loss: 8.3747e-04\n",
            "Epoch 78/100\n",
            "26592/26592 [==============================] - 38s 1ms/step - loss: 5.5540e-04 - val_loss: 6.6099e-04\n",
            "Epoch 79/100\n",
            "26592/26592 [==============================] - 38s 1ms/step - loss: 5.3303e-04 - val_loss: 6.6282e-04\n",
            "Epoch 80/100\n",
            "26592/26592 [==============================] - 38s 1ms/step - loss: 5.1936e-04 - val_loss: 9.9276e-04\n",
            "Epoch 81/100\n",
            "26592/26592 [==============================] - 38s 1ms/step - loss: 5.2509e-04 - val_loss: 4.9318e-04\n",
            "Epoch 82/100\n",
            "26592/26592 [==============================] - 38s 1ms/step - loss: 5.4124e-04 - val_loss: 4.2021e-04\n",
            "Epoch 83/100\n",
            "26592/26592 [==============================] - 38s 1ms/step - loss: 5.1277e-04 - val_loss: 5.3476e-04\n",
            "Epoch 84/100\n",
            "26592/26592 [==============================] - 38s 1ms/step - loss: 5.2638e-04 - val_loss: 6.0437e-04\n",
            "Epoch 85/100\n",
            "26592/26592 [==============================] - 38s 1ms/step - loss: 4.9642e-04 - val_loss: 5.9151e-04\n",
            "Epoch 86/100\n",
            "26592/26592 [==============================] - 38s 1ms/step - loss: 4.8241e-04 - val_loss: 4.7877e-04\n",
            "Epoch 87/100\n",
            "26592/26592 [==============================] - 38s 1ms/step - loss: 5.0477e-04 - val_loss: 6.1258e-04\n",
            "Epoch 88/100\n",
            "26592/26592 [==============================] - 39s 1ms/step - loss: 5.1056e-04 - val_loss: 4.4298e-04\n",
            "Epoch 89/100\n",
            "26592/26592 [==============================] - 38s 1ms/step - loss: 4.8299e-04 - val_loss: 7.2840e-04\n",
            "Epoch 90/100\n",
            "26592/26592 [==============================] - 38s 1ms/step - loss: 4.7729e-04 - val_loss: 5.5083e-04\n",
            "Epoch 91/100\n",
            "26592/26592 [==============================] - 38s 1ms/step - loss: 4.8393e-04 - val_loss: 8.8514e-04\n",
            "Epoch 92/100\n",
            "26592/26592 [==============================] - 38s 1ms/step - loss: 4.6438e-04 - val_loss: 4.8214e-04\n",
            "Epoch 93/100\n",
            "26592/26592 [==============================] - 38s 1ms/step - loss: 4.8681e-04 - val_loss: 4.0966e-04\n",
            "Epoch 94/100\n",
            "26592/26592 [==============================] - 38s 1ms/step - loss: 4.7379e-04 - val_loss: 4.6552e-04\n",
            "Epoch 95/100\n",
            "26592/26592 [==============================] - 38s 1ms/step - loss: 5.3291e-04 - val_loss: 4.3870e-04\n",
            "Epoch 96/100\n",
            "26592/26592 [==============================] - 38s 1ms/step - loss: 4.6512e-04 - val_loss: 4.3539e-04\n",
            "Epoch 97/100\n",
            "26592/26592 [==============================] - 39s 1ms/step - loss: 5.0012e-04 - val_loss: 4.8055e-04\n",
            "Epoch 98/100\n",
            "26592/26592 [==============================] - 39s 1ms/step - loss: 4.6773e-04 - val_loss: 7.1805e-04\n",
            "Epoch 99/100\n",
            "26592/26592 [==============================] - 38s 1ms/step - loss: 4.7988e-04 - val_loss: 4.6031e-04\n",
            "Epoch 100/100\n",
            "26592/26592 [==============================] - 38s 1ms/step - loss: 4.3364e-04 - val_loss: 3.8095e-04\n"
          ],
          "name": "stdout"
        }
      ]
    },
    {
      "cell_type": "code",
      "metadata": {
        "id": "6iEoSG9E4peT",
        "colab_type": "code",
        "outputId": "8611a744-220e-45be-cd74-21e12e1f4ccc",
        "colab": {
          "base_uri": "https://localhost:8080/",
          "height": 281
        }
      },
      "source": [
        "loss = autoencoder_train.history['loss']\n",
        "val_loss = autoencoder_train.history['val_loss']\n",
        "epochs = range(epochs)\n",
        "plt.figure()\n",
        "plt.plot(epochs, loss, 'bo', label='Training loss')\n",
        "plt.plot(epochs, val_loss, 'b', label='Validation loss')\n",
        "plt.title('Training and validation loss')\n",
        "plt.legend()\n",
        "plt.show()"
      ],
      "execution_count": 0,
      "outputs": [
        {
          "output_type": "display_data",
          "data": {
            "image/png": "[encoded data removed]",
            "text/plain": [
              "<Figure size 432x288 with 1 Axes>"
            ]
          },
          "metadata": {
            "tags": []
          }
        }
      ]
    },
    {
      "cell_type": "code",
      "metadata": {
        "id": "TS-dVtok43cR",
        "colab_type": "code",
        "colab": {}
      },
      "source": [
        "pred = autoencoder.predict(valid_X)"
      ],
      "execution_count": 0,
      "outputs": []
    },
    {
      "cell_type": "code",
      "metadata": {
        "id": "xF_iZgVu43lw",
        "colab_type": "code",
        "outputId": "0a365778-eb9f-4cb9-9fb8-6da1efa1c6e9",
        "colab": {
          "base_uri": "https://localhost:8080/",
          "height": 222
        }
      },
      "source": [
        "plt.figure(figsize=(16, 4))\n",
        "print(\"Ground truth for the Test Images\")\n",
        "#Displaying the first five images from the ground truth of the test images\n",
        "\n",
        "for i in range(5):\n",
        "    plt.subplot(1, 5, i+1)\n",
        "    plt.imshow(valid_ground[i+200,:,:,0],cmap='gray')                                               #plt.imshow(valid_ground[i+200, ..., 205], cmap='gray')\n",
        "plt.show()    "
      ],
      "execution_count": 0,
      "outputs": [
        {
          "output_type": "stream",
          "text": [
            "Ground truth for the Test Images\n"
          ],
          "name": "stdout"
        },
        {
          "output_type": "display_data",
          "data": {
            "image/png": "[encoded data removed]",
            "text/plain": [
              "<Figure size 1152x288 with 5 Axes>"
            ]
          },
          "metadata": {
            "tags": []
          }
        }
      ]
    },
    {
      "cell_type": "code",
      "metadata": {
        "id": "kiVQ3SE843vv",
        "colab_type": "code",
        "outputId": "353cb3f8-677a-4074-af25-b075b942fc43",
        "colab": {
          "base_uri": "https://localhost:8080/",
          "height": 222
        }
      },
      "source": [
        "plt.figure(figsize=(16, 4))\n",
        "print(\"Reconstruction of Bias field from the training dataset\")\n",
        "#Displaying the first five images from the prediction made by the auto encoder on the test images\n",
        "for i in range(5):\n",
        "    plt.subplot(1, 5, i+1)\n",
        "    plt.imshow(pred[i+200,:,:,0],cmap='gray')                                                                                           #plt.imshow(pred[i, ..., 0], cmap='gray')  \n",
        "plt.show()"
      ],
      "execution_count": 0,
      "outputs": [
        {
          "output_type": "stream",
          "text": [
            "Reconstruction of Bias field from the Test Images\n"
          ],
          "name": "stdout"
        },
        {
          "output_type": "display_data",
          "data": {
            "image/png": "[encoded data removed]",
            "text/plain": [
              "<Figure size 1152x288 with 5 Axes>"
            ]
          },
          "metadata": {
            "tags": []
          }
        }
      ]
    },
    {
      "cell_type": "code",
      "metadata": {
        "id": "MzwQ_6Ym43YY",
        "colab_type": "code",
        "colab": {}
      },
      "source": [
        "autoencoder.save('drive/My Drive/autoencoder_model.h5') #to save the weights of the trained model"
      ],
      "execution_count": 0,
      "outputs": []
    },
    {
      "cell_type": "code",
      "metadata": {
        "id": "fNzXUNjN43U0",
        "colab_type": "code",
        "colab": {}
      },
      "source": [
        ""
      ],
      "execution_count": 0,
      "outputs": []
    }
  ]
}